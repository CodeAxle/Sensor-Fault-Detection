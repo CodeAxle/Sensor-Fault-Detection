{
 "cells": [
  {
   "cell_type": "code",
   "execution_count": 1,
   "metadata": {},
   "outputs": [
    {
     "name": "stderr",
     "output_type": "stream",
     "text": [
      "C:\\Users\\Anil Jambhulkar\\AppData\\Local\\Temp\\ipykernel_18284\\3049780951.py:2: DeprecationWarning: \n",
      "Pyarrow will become a required dependency of pandas in the next major release of pandas (pandas 3.0),\n",
      "(to allow more performant data types, such as the Arrow string type, and better interoperability with other libraries)\n",
      "but was not found to be installed on your system.\n",
      "If this would cause problems for you,\n",
      "please provide us feedback at https://github.com/pandas-dev/pandas/issues/54466\n",
      "        \n",
      "  import pandas as pd\n"
     ]
    }
   ],
   "source": [
    "from sensor.utils.main_utils import read_yaml_file,write_yaml_file\n",
    "import pandas as pd\n",
    "import  numpy as np\n",
    "from sensor.logger import logging\n",
    "import os"
   ]
  },
  {
   "cell_type": "code",
   "execution_count": 2,
   "metadata": {},
   "outputs": [],
   "source": [
    "df = pd.DataFrame([[1,2],[1,2]])"
   ]
  },
  {
   "cell_type": "code",
   "execution_count": 3,
   "metadata": {},
   "outputs": [
    {
     "data": {
      "text/html": [
       "<div>\n",
       "<style scoped>\n",
       "    .dataframe tbody tr th:only-of-type {\n",
       "        vertical-align: middle;\n",
       "    }\n",
       "\n",
       "    .dataframe tbody tr th {\n",
       "        vertical-align: top;\n",
       "    }\n",
       "\n",
       "    .dataframe thead th {\n",
       "        text-align: right;\n",
       "    }\n",
       "</style>\n",
       "<table border=\"1\" class=\"dataframe\">\n",
       "  <thead>\n",
       "    <tr style=\"text-align: right;\">\n",
       "      <th></th>\n",
       "      <th>0</th>\n",
       "      <th>1</th>\n",
       "    </tr>\n",
       "  </thead>\n",
       "  <tbody>\n",
       "    <tr>\n",
       "      <th>0</th>\n",
       "      <td>1</td>\n",
       "      <td>2</td>\n",
       "    </tr>\n",
       "    <tr>\n",
       "      <th>1</th>\n",
       "      <td>1</td>\n",
       "      <td>2</td>\n",
       "    </tr>\n",
       "  </tbody>\n",
       "</table>\n",
       "</div>"
      ],
      "text/plain": [
       "   0  1\n",
       "0  1  2\n",
       "1  1  2"
      ]
     },
     "execution_count": 3,
     "metadata": {},
     "output_type": "execute_result"
    }
   ],
   "source": [
    "df"
   ]
  },
  {
   "cell_type": "code",
   "execution_count": 4,
   "metadata": {},
   "outputs": [
    {
     "data": {
      "text/html": [
       "<div>\n",
       "<style scoped>\n",
       "    .dataframe tbody tr th:only-of-type {\n",
       "        vertical-align: middle;\n",
       "    }\n",
       "\n",
       "    .dataframe tbody tr th {\n",
       "        vertical-align: top;\n",
       "    }\n",
       "\n",
       "    .dataframe thead th {\n",
       "        text-align: right;\n",
       "    }\n",
       "</style>\n",
       "<table border=\"1\" class=\"dataframe\">\n",
       "  <thead>\n",
       "    <tr style=\"text-align: right;\">\n",
       "      <th></th>\n",
       "      <th>0</th>\n",
       "      <th>1</th>\n",
       "    </tr>\n",
       "  </thead>\n",
       "  <tbody>\n",
       "    <tr>\n",
       "      <th>0</th>\n",
       "      <td>1</td>\n",
       "      <td>2</td>\n",
       "    </tr>\n",
       "    <tr>\n",
       "      <th>1</th>\n",
       "      <td>1</td>\n",
       "      <td>2</td>\n",
       "    </tr>\n",
       "    <tr>\n",
       "      <th>0</th>\n",
       "      <td>1</td>\n",
       "      <td>2</td>\n",
       "    </tr>\n",
       "    <tr>\n",
       "      <th>1</th>\n",
       "      <td>1</td>\n",
       "      <td>2</td>\n",
       "    </tr>\n",
       "  </tbody>\n",
       "</table>\n",
       "</div>"
      ],
      "text/plain": [
       "   0  1\n",
       "0  1  2\n",
       "1  1  2\n",
       "0  1  2\n",
       "1  1  2"
      ]
     },
     "execution_count": 4,
     "metadata": {},
     "output_type": "execute_result"
    }
   ],
   "source": [
    "pd.concat([df,df])"
   ]
  },
  {
   "cell_type": "code",
   "execution_count": 5,
   "metadata": {},
   "outputs": [],
   "source": [
    "file_path=r\"C:\\Users\\Anil Jambhulkar\\Desktop\\Sensor-Fault-Detection\\config\\schema.yaml\""
   ]
  },
  {
   "cell_type": "code",
   "execution_count": 6,
   "metadata": {},
   "outputs": [],
   "source": [
    "schema_config = read_yaml_file(filepath=file_path) "
   ]
  },
  {
   "cell_type": "code",
   "execution_count": 7,
   "metadata": {},
   "outputs": [
    {
     "data": {
      "text/plain": [
       "164"
      ]
     },
     "execution_count": 7,
     "metadata": {},
     "output_type": "execute_result"
    }
   ],
   "source": [
    "len(schema_config['columns'])"
   ]
  },
  {
   "cell_type": "code",
   "execution_count": 8,
   "metadata": {},
   "outputs": [
    {
     "data": {
      "text/plain": [
       "2"
      ]
     },
     "execution_count": 8,
     "metadata": {},
     "output_type": "execute_result"
    }
   ],
   "source": [
    "len(df.columns)"
   ]
  },
  {
   "cell_type": "code",
   "execution_count": 9,
   "metadata": {},
   "outputs": [
    {
     "data": {
      "text/plain": [
       "False"
      ]
     },
     "execution_count": 9,
     "metadata": {},
     "output_type": "execute_result"
    }
   ],
   "source": [
    "len(schema_config['columns']) == len(df.columns)"
   ]
  },
  {
   "cell_type": "code",
   "execution_count": 10,
   "metadata": {},
   "outputs": [],
   "source": [
    "from scipy.stats import ks_2samp"
   ]
  },
  {
   "cell_type": "markdown",
   "metadata": {},
   "source": [
    "P-value for exact same elements "
   ]
  },
  {
   "cell_type": "code",
   "execution_count": 11,
   "metadata": {},
   "outputs": [],
   "source": [
    "d1 = np.arange(10)\n",
    "d2 = np.arange(10)"
   ]
  },
  {
   "cell_type": "code",
   "execution_count": 12,
   "metadata": {},
   "outputs": [
    {
     "data": {
      "text/plain": [
       "KstestResult(statistic=0.0, pvalue=1.0)"
      ]
     },
     "execution_count": 12,
     "metadata": {},
     "output_type": "execute_result"
    }
   ],
   "source": [
    "ks_2samp(d1,d2)"
   ]
  },
  {
   "cell_type": "markdown",
   "metadata": {},
   "source": [
    "Distinct dataset values"
   ]
  },
  {
   "cell_type": "code",
   "execution_count": 13,
   "metadata": {},
   "outputs": [],
   "source": [
    "d1 = np.arange(100,200)\n",
    "d2 = np.arange(10)"
   ]
  },
  {
   "cell_type": "code",
   "execution_count": 14,
   "metadata": {},
   "outputs": [
    {
     "data": {
      "text/plain": [
       "array([100, 101, 102, 103, 104, 105, 106, 107, 108, 109, 110, 111, 112,\n",
       "       113, 114, 115, 116, 117, 118, 119, 120, 121, 122, 123, 124, 125,\n",
       "       126, 127, 128, 129, 130, 131, 132, 133, 134, 135, 136, 137, 138,\n",
       "       139, 140, 141, 142, 143, 144, 145, 146, 147, 148, 149, 150, 151,\n",
       "       152, 153, 154, 155, 156, 157, 158, 159, 160, 161, 162, 163, 164,\n",
       "       165, 166, 167, 168, 169, 170, 171, 172, 173, 174, 175, 176, 177,\n",
       "       178, 179, 180, 181, 182, 183, 184, 185, 186, 187, 188, 189, 190,\n",
       "       191, 192, 193, 194, 195, 196, 197, 198, 199])"
      ]
     },
     "execution_count": 14,
     "metadata": {},
     "output_type": "execute_result"
    }
   ],
   "source": [
    "d1"
   ]
  },
  {
   "cell_type": "code",
   "execution_count": 15,
   "metadata": {},
   "outputs": [
    {
     "data": {
      "text/plain": [
       "array([0, 1, 2, 3, 4, 5, 6, 7, 8, 9])"
      ]
     },
     "execution_count": 15,
     "metadata": {},
     "output_type": "execute_result"
    }
   ],
   "source": [
    "d2"
   ]
  },
  {
   "cell_type": "code",
   "execution_count": 16,
   "metadata": {},
   "outputs": [
    {
     "data": {
      "text/plain": [
       "KstestResult(statistic=1.0, pvalue=4.2646072253826637e-14)"
      ]
     },
     "execution_count": 16,
     "metadata": {},
     "output_type": "execute_result"
    }
   ],
   "source": [
    "ks_2samp(d1,d2)"
   ]
  },
  {
   "cell_type": "code",
   "execution_count": 17,
   "metadata": {},
   "outputs": [],
   "source": [
    "test = ks_2samp(d1,d2)"
   ]
  },
  {
   "cell_type": "code",
   "execution_count": 18,
   "metadata": {},
   "outputs": [
    {
     "data": {
      "text/plain": [
       "0"
      ]
     },
     "execution_count": 18,
     "metadata": {},
     "output_type": "execute_result"
    }
   ],
   "source": [
    "round(test.pvalue)"
   ]
  },
  {
   "cell_type": "code",
   "execution_count": 19,
   "metadata": {},
   "outputs": [],
   "source": [
    "training_file_path = r\"C:\\Users\\Anil Jambhulkar\\Desktop\\Sensor-Fault-Detection\\artifact\\03_02_2024_15_46_14\\data_ingestion\\ingested\\train.csv\""
   ]
  },
  {
   "cell_type": "code",
   "execution_count": 20,
   "metadata": {},
   "outputs": [],
   "source": [
    "test_file_path = r\"C:\\Users\\Anil Jambhulkar\\Desktop\\Sensor-Fault-Detection\\artifact\\03_02_2024_15_46_14\\data_ingestion\\ingested\\test.csv\" "
   ]
  },
  {
   "cell_type": "code",
   "execution_count": 21,
   "metadata": {},
   "outputs": [],
   "source": [
    "train_df = pd.read_csv(training_file_path)\n",
    "test_df = pd.read_csv(test_file_path)"
   ]
  },
  {
   "cell_type": "code",
   "execution_count": 22,
   "metadata": {},
   "outputs": [
    {
     "data": {
      "text/plain": [
       "Index(['class', 'aa_000', 'ac_000', 'ad_000', 'ae_000', 'af_000', 'ag_000',\n",
       "       'ag_001', 'ag_002', 'ag_003',\n",
       "       ...\n",
       "       'ee_002', 'ee_003', 'ee_004', 'ee_005', 'ee_006', 'ee_007', 'ee_008',\n",
       "       'ee_009', 'ef_000', 'eg_000'],\n",
       "      dtype='object', length=164)"
      ]
     },
     "execution_count": 22,
     "metadata": {},
     "output_type": "execute_result"
    }
   ],
   "source": [
    "train_df.columns"
   ]
  },
  {
   "cell_type": "code",
   "execution_count": 23,
   "metadata": {},
   "outputs": [
    {
     "data": {
      "text/plain": [
       "Index(['class', 'aa_000', 'ac_000', 'ad_000', 'ae_000', 'af_000', 'ag_000',\n",
       "       'ag_001', 'ag_002', 'ag_003',\n",
       "       ...\n",
       "       'ee_002', 'ee_003', 'ee_004', 'ee_005', 'ee_006', 'ee_007', 'ee_008',\n",
       "       'ee_009', 'ef_000', 'eg_000'],\n",
       "      dtype='object', length=164)"
      ]
     },
     "execution_count": 23,
     "metadata": {},
     "output_type": "execute_result"
    }
   ],
   "source": [
    "test_df.columns"
   ]
  },
  {
   "cell_type": "code",
   "execution_count": 24,
   "metadata": {},
   "outputs": [],
   "source": [
    "def get_drift_report(base_df,current_df,threshold=0.05)->bool:\n",
    "    report = {}\n",
    "    for column in base_df.columns:\n",
    "        d1 = base_df[column]\n",
    "        d2 = current_df[column]\n",
    "        # Check if the column data type is numeric\n",
    "        if np.issubdtype(d1.dtype, np.number) and np.issubdtype(d2.dtype, np.number):\n",
    "            # Perform drift detection if both columns have numeric data types\n",
    "            is_same_dist = ks_2samp(d1, d2)\n",
    "            if threshold <= is_same_dist.pvalue:\n",
    "                is_found = False\n",
    "            else:\n",
    "                is_found = True\n",
    "                status = False\n",
    "            report.update({\n",
    "                column: {\n",
    "                    \"p_value\": float(is_same_dist.pvalue),\n",
    "                    \"drift_status\": is_found\n",
    "                }\n",
    "            })\n",
    "        else:\n",
    "            # Skip drift detection if either column has a non-numeric data type\n",
    "            logging.warning(f\"Skipping drift detection for non-numeric column '{column}'\")       \n",
    "    return report"
   ]
  },
  {
   "cell_type": "code",
   "execution_count": 25,
   "metadata": {},
   "outputs": [],
   "source": [
    "drift_report = get_drift_report(train_df,test_df)"
   ]
  },
  {
   "cell_type": "code",
   "execution_count": 26,
   "metadata": {},
   "outputs": [
    {
     "data": {
      "text/plain": [
       "{'aa_000': {'p_value': 0.9089534436058394, 'drift_status': False},\n",
       " 'ac_000': {'p_value': 0.13205762704470103, 'drift_status': False},\n",
       " 'ad_000': {'p_value': 0.7450166398394409, 'drift_status': False},\n",
       " 'ae_000': {'p_value': 0.9892162247324442, 'drift_status': False},\n",
       " 'af_000': {'p_value': 0.9899427818708384, 'drift_status': False},\n",
       " 'ag_000': {'p_value': 1.0, 'drift_status': False},\n",
       " 'ag_001': {'p_value': 1.0, 'drift_status': False},\n",
       " 'ag_002': {'p_value': 0.9977825627750571, 'drift_status': False},\n",
       " 'ag_003': {'p_value': 0.9941111269293684, 'drift_status': False},\n",
       " 'ag_004': {'p_value': 0.9132444186708828, 'drift_status': False},\n",
       " 'ag_005': {'p_value': 0.6637191654102459, 'drift_status': False},\n",
       " 'ag_006': {'p_value': 0.7149969934437623, 'drift_status': False},\n",
       " 'ag_007': {'p_value': 0.29914929584056804, 'drift_status': False},\n",
       " 'ag_008': {'p_value': 0.6660723934855366, 'drift_status': False},\n",
       " 'ag_009': {'p_value': 0.9190646828820624, 'drift_status': False},\n",
       " 'ah_000': {'p_value': 0.9664205098475775, 'drift_status': False},\n",
       " 'ai_000': {'p_value': 0.9973140039171601, 'drift_status': False},\n",
       " 'aj_000': {'p_value': 0.9998382115106519, 'drift_status': False},\n",
       " 'ak_000': {'p_value': 0.9810135046530251, 'drift_status': False},\n",
       " 'al_000': {'p_value': 0.9857184101709812, 'drift_status': False},\n",
       " 'am_0': {'p_value': 0.9897474004383628, 'drift_status': False},\n",
       " 'an_000': {'p_value': 0.9649833110609009, 'drift_status': False},\n",
       " 'ao_000': {'p_value': 0.979907165352161, 'drift_status': False},\n",
       " 'ap_000': {'p_value': 0.998978720661698, 'drift_status': False},\n",
       " 'aq_000': {'p_value': 0.9254029585519147, 'drift_status': False},\n",
       " 'ar_000': {'p_value': 0.9999967449400751, 'drift_status': False},\n",
       " 'as_000': {'p_value': 1.0, 'drift_status': False},\n",
       " 'at_000': {'p_value': 0.9998643038292555, 'drift_status': False},\n",
       " 'au_000': {'p_value': 1.0, 'drift_status': False},\n",
       " 'av_000': {'p_value': 0.5136988213934335, 'drift_status': False},\n",
       " 'ax_000': {'p_value': 0.8901514517020234, 'drift_status': False},\n",
       " 'ay_000': {'p_value': 1.0, 'drift_status': False},\n",
       " 'ay_001': {'p_value': 1.0, 'drift_status': False},\n",
       " 'ay_002': {'p_value': 1.0, 'drift_status': False},\n",
       " 'ay_003': {'p_value': 0.9999999999999994, 'drift_status': False},\n",
       " 'ay_004': {'p_value': 0.9999999999980628, 'drift_status': False},\n",
       " 'ay_005': {'p_value': 0.7549836224059536, 'drift_status': False},\n",
       " 'ay_006': {'p_value': 0.9742709110311749, 'drift_status': False},\n",
       " 'ay_007': {'p_value': 0.9393954891956161, 'drift_status': False},\n",
       " 'ay_008': {'p_value': 0.6793868195941712, 'drift_status': False},\n",
       " 'ay_009': {'p_value': 1.0, 'drift_status': False},\n",
       " 'az_000': {'p_value': 0.8422178769289091, 'drift_status': False},\n",
       " 'az_001': {'p_value': 0.3185344743192944, 'drift_status': False},\n",
       " 'az_002': {'p_value': 0.6497003863539584, 'drift_status': False},\n",
       " 'az_003': {'p_value': 0.9328497992089794, 'drift_status': False},\n",
       " 'az_004': {'p_value': 0.9981406615279068, 'drift_status': False},\n",
       " 'az_005': {'p_value': 0.9253954401997215, 'drift_status': False},\n",
       " 'az_006': {'p_value': 0.9917080982135769, 'drift_status': False},\n",
       " 'az_007': {'p_value': 0.999934041921293, 'drift_status': False},\n",
       " 'az_008': {'p_value': 1.0, 'drift_status': False},\n",
       " 'az_009': {'p_value': 0.9999999994256523, 'drift_status': False},\n",
       " 'ba_000': {'p_value': 0.8025161345665968, 'drift_status': False},\n",
       " 'ba_001': {'p_value': 0.847216236904436, 'drift_status': False},\n",
       " 'ba_002': {'p_value': 0.9561129655349008, 'drift_status': False},\n",
       " 'ba_003': {'p_value': 0.7484508380995254, 'drift_status': False},\n",
       " 'ba_004': {'p_value': 0.5968911857987989, 'drift_status': False},\n",
       " 'ba_005': {'p_value': 0.5133631785790922, 'drift_status': False},\n",
       " 'ba_006': {'p_value': 0.5555740793110049, 'drift_status': False},\n",
       " 'ba_007': {'p_value': 0.5690508065719888, 'drift_status': False},\n",
       " 'ba_008': {'p_value': 0.544914840799305, 'drift_status': False},\n",
       " 'ba_009': {'p_value': 0.5539427240640006, 'drift_status': False},\n",
       " 'bb_000': {'p_value': 0.9795806430789844, 'drift_status': False},\n",
       " 'bc_000': {'p_value': 0.6502192167721893, 'drift_status': False},\n",
       " 'bd_000': {'p_value': 0.7023636089704532, 'drift_status': False},\n",
       " 'be_000': {'p_value': 0.9314233449147935, 'drift_status': False},\n",
       " 'bf_000': {'p_value': 0.9839781675125848, 'drift_status': False},\n",
       " 'bg_000': {'p_value': 0.9680021836677346, 'drift_status': False},\n",
       " 'bh_000': {'p_value': 0.9083187618102617, 'drift_status': False},\n",
       " 'bi_000': {'p_value': 0.9356026492935876, 'drift_status': False},\n",
       " 'bj_000': {'p_value': 0.9889521855681691, 'drift_status': False},\n",
       " 'bk_000': {'p_value': 0.8932688699760187, 'drift_status': False},\n",
       " 'bl_000': {'p_value': 0.8665957788049092, 'drift_status': False},\n",
       " 'bm_000': {'p_value': 0.9996998448782985, 'drift_status': False},\n",
       " 'bs_000': {'p_value': 0.8575597606660511, 'drift_status': False},\n",
       " 'bt_000': {'p_value': 0.9579270959821514, 'drift_status': False},\n",
       " 'bu_000': {'p_value': 0.9874468989228882, 'drift_status': False},\n",
       " 'bv_000': {'p_value': 0.9874468989228882, 'drift_status': False},\n",
       " 'bx_000': {'p_value': 0.8356716203936516, 'drift_status': False},\n",
       " 'by_000': {'p_value': 0.8046757880959484, 'drift_status': False},\n",
       " 'bz_000': {'p_value': 0.7372328858460001, 'drift_status': False},\n",
       " 'ca_000': {'p_value': 0.3682177198570634, 'drift_status': False},\n",
       " 'cb_000': {'p_value': 0.9983483004466448, 'drift_status': False},\n",
       " 'cc_000': {'p_value': 0.9289585461601215, 'drift_status': False},\n",
       " 'cd_000': {'p_value': 1.0, 'drift_status': False},\n",
       " 'ce_000': {'p_value': 0.9733966618043404, 'drift_status': False},\n",
       " 'cf_000': {'p_value': 0.7467432178725826, 'drift_status': False},\n",
       " 'cg_000': {'p_value': 0.9142419908698981, 'drift_status': False},\n",
       " 'ch_000': {'p_value': 0.9571251939784933, 'drift_status': False},\n",
       " 'ci_000': {'p_value': 0.978436506929654, 'drift_status': False},\n",
       " 'cj_000': {'p_value': 0.9747948384179427, 'drift_status': False},\n",
       " 'ck_000': {'p_value': 0.9321918290270408, 'drift_status': False},\n",
       " 'cl_000': {'p_value': 0.9994502524861001, 'drift_status': False},\n",
       " 'cm_000': {'p_value': 0.9872512273842122, 'drift_status': False},\n",
       " 'cn_000': {'p_value': 0.9999203972117747, 'drift_status': False},\n",
       " 'cn_001': {'p_value': 0.9540820040411374, 'drift_status': False},\n",
       " 'cn_002': {'p_value': 0.6185079570034165, 'drift_status': False},\n",
       " 'cn_003': {'p_value': 0.5239564792919387, 'drift_status': False},\n",
       " 'cn_004': {'p_value': 0.7946888471438083, 'drift_status': False},\n",
       " 'cn_005': {'p_value': 0.48899599528383, 'drift_status': False},\n",
       " 'cn_006': {'p_value': 0.2274514993668172, 'drift_status': False},\n",
       " 'cn_007': {'p_value': 0.517959776308395, 'drift_status': False},\n",
       " 'cn_008': {'p_value': 0.5955314704129979, 'drift_status': False},\n",
       " 'cn_009': {'p_value': 0.8192348367628263, 'drift_status': False},\n",
       " 'co_000': {'p_value': 0.7252187228387845, 'drift_status': False},\n",
       " 'cp_000': {'p_value': 0.7687701971110386, 'drift_status': False},\n",
       " 'cq_000': {'p_value': 0.9874468989228882, 'drift_status': False},\n",
       " 'cs_000': {'p_value': 0.8109515666772275, 'drift_status': False},\n",
       " 'cs_001': {'p_value': 0.9333159351854198, 'drift_status': False},\n",
       " 'cs_002': {'p_value': 0.48194340263612545, 'drift_status': False},\n",
       " 'cs_003': {'p_value': 0.8989350112158567, 'drift_status': False},\n",
       " 'cs_004': {'p_value': 0.9664726372726727, 'drift_status': False},\n",
       " 'cs_005': {'p_value': 0.8105584251278402, 'drift_status': False},\n",
       " 'cs_006': {'p_value': 0.6010002490302443, 'drift_status': False},\n",
       " 'cs_007': {'p_value': 0.8377893536932755, 'drift_status': False},\n",
       " 'cs_008': {'p_value': 0.6176792030576767, 'drift_status': False},\n",
       " 'cs_009': {'p_value': 1.0, 'drift_status': False},\n",
       " 'ct_000': {'p_value': 0.8360926759664442, 'drift_status': False},\n",
       " 'cu_000': {'p_value': 0.32536220533723736, 'drift_status': False},\n",
       " 'cv_000': {'p_value': 0.881930612704486, 'drift_status': False},\n",
       " 'cx_000': {'p_value': 0.44280017059583465, 'drift_status': False},\n",
       " 'cy_000': {'p_value': 0.9471543577612814, 'drift_status': False},\n",
       " 'cz_000': {'p_value': 0.6549419859771322, 'drift_status': False},\n",
       " 'da_000': {'p_value': 0.9405457129314907, 'drift_status': False},\n",
       " 'db_000': {'p_value': 0.2967081858155183, 'drift_status': False},\n",
       " 'dc_000': {'p_value': 0.5531992352573616, 'drift_status': False},\n",
       " 'dd_000': {'p_value': 0.9077964113756939, 'drift_status': False},\n",
       " 'de_000': {'p_value': 0.7799368717807603, 'drift_status': False},\n",
       " 'df_000': {'p_value': 0.9997085201925092, 'drift_status': False},\n",
       " 'dg_000': {'p_value': 0.999988963786332, 'drift_status': False},\n",
       " 'dh_000': {'p_value': 0.7852059457643898, 'drift_status': False},\n",
       " 'di_000': {'p_value': 0.2655463228562518, 'drift_status': False},\n",
       " 'dj_000': {'p_value': 0.999931935107038, 'drift_status': False},\n",
       " 'dk_000': {'p_value': 0.9997836173135374, 'drift_status': False},\n",
       " 'dl_000': {'p_value': 0.999978769964033, 'drift_status': False},\n",
       " 'dm_000': {'p_value': 0.9999787711933431, 'drift_status': False},\n",
       " 'dn_000': {'p_value': 0.8197582301555227, 'drift_status': False},\n",
       " 'do_000': {'p_value': 0.9529390686744252, 'drift_status': False},\n",
       " 'dp_000': {'p_value': 0.8800848579816736, 'drift_status': False},\n",
       " 'dq_000': {'p_value': 0.37257787728536407, 'drift_status': False},\n",
       " 'dr_000': {'p_value': 0.3796401802716738, 'drift_status': False},\n",
       " 'ds_000': {'p_value': 0.9047641279550966, 'drift_status': False},\n",
       " 'dt_000': {'p_value': 0.9664282768080139, 'drift_status': False},\n",
       " 'du_000': {'p_value': 0.14566286226711866, 'drift_status': False},\n",
       " 'dv_000': {'p_value': 0.09278369863223257, 'drift_status': False},\n",
       " 'dx_000': {'p_value': 0.37634858183582764, 'drift_status': False},\n",
       " 'dy_000': {'p_value': 0.11005994563125132, 'drift_status': False},\n",
       " 'dz_000': {'p_value': 0.9994253087431376, 'drift_status': False},\n",
       " 'ea_000': {'p_value': 0.973642342573465, 'drift_status': False},\n",
       " 'eb_000': {'p_value': 0.6979028805424423, 'drift_status': False},\n",
       " 'ec_00': {'p_value': 0.7162384842253597, 'drift_status': False},\n",
       " 'ed_000': {'p_value': 0.9499356124265373, 'drift_status': False},\n",
       " 'ee_000': {'p_value': 0.8264188602200158, 'drift_status': False},\n",
       " 'ee_001': {'p_value': 0.873323469413822, 'drift_status': False},\n",
       " 'ee_002': {'p_value': 0.6568916306069131, 'drift_status': False},\n",
       " 'ee_003': {'p_value': 0.9909110113907827, 'drift_status': False},\n",
       " 'ee_004': {'p_value': 0.9852219026512419, 'drift_status': False},\n",
       " 'ee_005': {'p_value': 0.4847647902580682, 'drift_status': False},\n",
       " 'ee_006': {'p_value': 0.7660483155929746, 'drift_status': False},\n",
       " 'ee_007': {'p_value': 0.8534418617428239, 'drift_status': False},\n",
       " 'ee_008': {'p_value': 0.48950483473486905, 'drift_status': False},\n",
       " 'ee_009': {'p_value': 0.6353267524057107, 'drift_status': False},\n",
       " 'ef_000': {'p_value': 0.9953322048176627, 'drift_status': False},\n",
       " 'eg_000': {'p_value': 0.997525678622139, 'drift_status': False}}"
      ]
     },
     "execution_count": 26,
     "metadata": {},
     "output_type": "execute_result"
    }
   ],
   "source": [
    "drift_report"
   ]
  },
  {
   "cell_type": "code",
   "execution_count": 27,
   "metadata": {},
   "outputs": [
    {
     "data": {
      "text/plain": [
       "163"
      ]
     },
     "execution_count": 27,
     "metadata": {},
     "output_type": "execute_result"
    }
   ],
   "source": [
    "len(drift_report)"
   ]
  },
  {
   "cell_type": "code",
   "execution_count": 28,
   "metadata": {},
   "outputs": [],
   "source": [
    "write_yaml_file(file_path=os.path.join(os.getcwd(),\"report.yaml\"),content=drift_report,replace=True)"
   ]
  },
  {
   "cell_type": "code",
   "execution_count": 29,
   "metadata": {},
   "outputs": [],
   "source": [
    "# def get_drift_report(base_df,current_df,threshold=0.05)->bool:\n",
    "#     report = {}\n",
    "#     for column in base_df.columns:\n",
    "#         d1 = base_df[column]\n",
    "#         d2 = current_df[column]\n",
    "#         # Check if the column data type is numeric\n",
    "#         if np.issubdtype(d1.dtype, np.number) and np.issubdtype(d2.dtype, np.number):\n",
    "#             # Perform drift detection if both columns have numeric data types\n",
    "#             is_same_dist = ks_2samp(d1, d2)\n",
    "#             if threshold <= is_same_dist.pvalue:\n",
    "#                 is_found = False\n",
    "#             else:\n",
    "#                 is_found = True\n",
    "#                 status = False\n",
    "#             report.update({\n",
    "#                 column: {\n",
    "#                     \"p_value\": float(is_same_dist.pvalue),\n",
    "#                     \"drift_status\": is_found\n",
    "#                 }\n",
    "#             })\n",
    "#         else:\n",
    "#             # Skip drift detection if either column has a non-numeric data type\n",
    "#             logging.warning(f\"Skipping drift detection for non-numeric column '{column}'\")       \n",
    "#     return report"
   ]
  },
  {
   "cell_type": "code",
   "execution_count": 30,
   "metadata": {},
   "outputs": [],
   "source": [
    "from sensor.ml.model.estimator import TargetValueMapping"
   ]
  },
  {
   "cell_type": "code",
   "execution_count": 31,
   "metadata": {},
   "outputs": [
    {
     "data": {
      "text/plain": [
       "{'neg': 0, 'pos': 1}"
      ]
     },
     "execution_count": 31,
     "metadata": {},
     "output_type": "execute_result"
    }
   ],
   "source": [
    "TargetValueMapping().to_dict()"
   ]
  },
  {
   "cell_type": "code",
   "execution_count": 32,
   "metadata": {},
   "outputs": [
    {
     "data": {
      "text/plain": [
       "{0: 'neg', 1: 'pos'}"
      ]
     },
     "execution_count": 32,
     "metadata": {},
     "output_type": "execute_result"
    }
   ],
   "source": [
    "TargetValueMapping().reverse_mapping()"
   ]
  },
  {
   "cell_type": "code",
   "execution_count": null,
   "metadata": {},
   "outputs": [],
   "source": []
  }
 ],
 "metadata": {
  "kernelspec": {
   "display_name": "Python 3",
   "language": "python",
   "name": "python3"
  },
  "language_info": {
   "codemirror_mode": {
    "name": "ipython",
    "version": 3
   },
   "file_extension": ".py",
   "mimetype": "text/x-python",
   "name": "python",
   "nbconvert_exporter": "python",
   "pygments_lexer": "ipython3",
   "version": "3.10.0"
  }
 },
 "nbformat": 4,
 "nbformat_minor": 2
}
